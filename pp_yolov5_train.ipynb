{
 "cells": [
  {
   "cell_type": "markdown",
   "metadata": {},
   "source": [
    "# DATA PRE-PROCESSING"
   ]
  },
  {
   "cell_type": "code",
   "execution_count": 1,
   "metadata": {},
   "outputs": [],
   "source": [
    "import os, sys, random\n",
    "from sklearn import preprocessing, model_selection\n",
    "import numpy as np\n",
    "from shutil import copy2"
   ]
  },
  {
   "cell_type": "code",
   "execution_count": 2,
   "metadata": {},
   "outputs": [
    {
     "ename": "FileExistsError",
     "evalue": "[Errno 17] File exists: '../datasets/PP/'",
     "output_type": "error",
     "traceback": [
      "\u001b[0;31m---------------------------------------------------------------------------\u001b[0m",
      "\u001b[0;31mFileExistsError\u001b[0m                           Traceback (most recent call last)",
      "\u001b[0;32m<ipython-input-2-49c965abb4f7>\u001b[0m in \u001b[0;36m<module>\u001b[0;34m\u001b[0m\n\u001b[1;32m      1\u001b[0m \u001b[0;31m# create datasets folders\u001b[0m\u001b[0;34m\u001b[0m\u001b[0;34m\u001b[0m\u001b[0;34m\u001b[0m\u001b[0m\n\u001b[0;32m----> 2\u001b[0;31m \u001b[0mos\u001b[0m\u001b[0;34m.\u001b[0m\u001b[0mmkdir\u001b[0m\u001b[0;34m(\u001b[0m\u001b[0;34m'../datasets/PP/'\u001b[0m\u001b[0;34m)\u001b[0m\u001b[0;34m\u001b[0m\u001b[0;34m\u001b[0m\u001b[0m\n\u001b[0m\u001b[1;32m      3\u001b[0m \u001b[0mos\u001b[0m\u001b[0;34m.\u001b[0m\u001b[0mmkdir\u001b[0m\u001b[0;34m(\u001b[0m\u001b[0;34m'../datasets/PP/images/'\u001b[0m\u001b[0;34m)\u001b[0m\u001b[0;34m\u001b[0m\u001b[0;34m\u001b[0m\u001b[0m\n\u001b[1;32m      4\u001b[0m \u001b[0mos\u001b[0m\u001b[0;34m.\u001b[0m\u001b[0mmkdir\u001b[0m\u001b[0;34m(\u001b[0m\u001b[0;34m'../datasets/PP/images/train/'\u001b[0m\u001b[0;34m)\u001b[0m\u001b[0;34m\u001b[0m\u001b[0;34m\u001b[0m\u001b[0m\n\u001b[1;32m      5\u001b[0m \u001b[0mos\u001b[0m\u001b[0;34m.\u001b[0m\u001b[0mmkdir\u001b[0m\u001b[0;34m(\u001b[0m\u001b[0;34m'../datasets/PP/images/valid/'\u001b[0m\u001b[0;34m)\u001b[0m\u001b[0;34m\u001b[0m\u001b[0;34m\u001b[0m\u001b[0m\n",
      "\u001b[0;31mFileExistsError\u001b[0m: [Errno 17] File exists: '../datasets/PP/'"
     ]
    }
   ],
   "source": [
    "# create datasets folders\n",
    "os.mkdir('../datasets/PP/')\n",
    "os.mkdir('../datasets/PP/images/')\n",
    "os.mkdir('../datasets/PP/images/train/')\n",
    "os.mkdir('../datasets/PP/images/valid/')\n",
    "\n",
    "os.mkdir('../datasets/PP/labels/')\n",
    "os.mkdir('../datasets/PP/labels/train/')\n",
    "os.mkdir('../datasets/PP/labels/valid/')"
   ]
  },
  {
   "cell_type": "code",
   "execution_count": 3,
   "metadata": {},
   "outputs": [],
   "source": [
    "# %%time\n",
    "src_img_path = \"../labeling/test2/inputs/\"\n",
    "src_label_path = \"../labeling/test2/outputs/YOLO_darknet/\"\n",
    "\n",
    "train_img_path = \"../datasets/PP/images/train\"\n",
    "train_label_path = \"../datasets/PP/labels/train\"\n",
    "\n",
    "valid_img_path = \"../datasets/PP/images/valid\"\n",
    "valid_label_path = \"../datasets/PP/labels/valid\""
   ]
  },
  {
   "cell_type": "code",
   "execution_count": 4,
   "metadata": {},
   "outputs": [
    {
     "name": "stdout",
     "output_type": "stream",
     "text": [
      "['WhatsApp Image 2022-03-01 at 12.45.50.jpeg', 'WhatsApp Image 2022-02-28 at 11.06.48 (2).jpeg', 'WhatsApp Image 2022-02-28 at 11.06.48 (3).jpeg', 'WhatsApp Image 2022-02-28 at 12.23.52.jpeg', 'WhatsApp Image 2022-02-28 at 12.23.51.jpeg']\n",
      "['WhatsApp Image 2022-03-01 at 12.45.50.txt', 'WhatsApp Image 2022-02-28 at 11.06.48 (2).txt', 'WhatsApp Image 2022-02-28 at 11.06.48 (3).txt', 'WhatsApp Image 2022-02-28 at 12.23.52.txt', 'WhatsApp Image 2022-02-28 at 12.23.51.txt']\n"
     ]
    }
   ],
   "source": [
    "# Get filenames ordered by name\n",
    "X = sorted(filter(lambda x: os.path.isfile(os.path.join(src_img_path, x)), os.listdir(src_img_path)))\n",
    "y = sorted(filter(lambda x: os.path.isfile(os.path.join(src_label_path, x)), os.listdir(src_label_path)))\n",
    "\n",
    "X_train, X_test, y_train, y_test = model_selection.train_test_split(X, y, test_size=0.33, shuffle=True, random_state=42)\n",
    "\n",
    "\n",
    "print(X_test[0:5])\n",
    "print(y_test[0:5])"
   ]
  },
  {
   "cell_type": "code",
   "execution_count": 5,
   "metadata": {},
   "outputs": [],
   "source": [
    "def segregate_data(x_, y_, img_path, label_path, split_img_path, split_label_path):  \n",
    "    for filename in x_:\n",
    "        copy2(os.path.join(img_path, filename), os.path.join(split_img_path, filename))\n",
    "    for filename in y_:\n",
    "        copy2(os.path.join(label_path, filename), os.path.join(split_label_path, filename))"
   ]
  },
  {
   "cell_type": "code",
   "execution_count": 6,
   "metadata": {},
   "outputs": [
    {
     "name": "stdout",
     "output_type": "stream",
     "text": [
      "Num of Training images 29\n",
      "Num of Training labels 29\n",
      "Num of Test images 15\n",
      "Num of Test labels 15\n"
     ]
    }
   ],
   "source": [
    "segregate_data(X_train, y_train, src_img_path, src_label_path, train_img_path, train_label_path)\n",
    "segregate_data(X_test, y_test, src_img_path, src_label_path, valid_img_path, valid_label_path)\n",
    "\n",
    "print(\"Num of Training images\", len(os.listdir(train_img_path)))\n",
    "print(\"Num of Training labels\", len(os.listdir(train_label_path)))\n",
    "\n",
    "print(\"Num of Test images\", len(os.listdir(valid_img_path)))\n",
    "print(\"Num of Test labels\", len(os.listdir(valid_label_path)))"
   ]
  },
  {
   "cell_type": "markdown",
   "metadata": {},
   "source": [
    "# YOLO V5"
   ]
  },
  {
   "cell_type": "code",
   "execution_count": 10,
   "metadata": {},
   "outputs": [
    {
     "name": "stdout",
     "output_type": "stream",
     "text": [
      "path: ../datasets/PP\n",
      "train: images/train\n",
      "val: images/valid\n",
      "\n",
      "# Classes\n",
      "nc: 3  # number of classes\n",
      "names: ['person', 'cat', 'dog']  # class names"
     ]
    }
   ],
   "source": [
    "# check the \n",
    "\n",
    "%cat 'pp.yaml'"
   ]
  },
  {
   "cell_type": "code",
   "execution_count": 11,
   "metadata": {},
   "outputs": [
    {
     "name": "stdout",
     "output_type": "stream",
     "text": [
      "/home/sergio/Projects/Doutorado/ML/yolov5\n"
     ]
    }
   ],
   "source": [
    "# Uncomment de git clone command if running the first time\n",
    "# !git clone https://github.com/ultralytics/yolov5\n",
    "# %cd ../yolov5\n",
    "\n",
    "# install yolov5 requirements.... see readme files...\n",
    "# !pip3 install -r requirements.txt"
   ]
  },
  {
   "cell_type": "code",
   "execution_count": null,
   "metadata": {},
   "outputs": [],
   "source": [
    "%load_ext tensorboard\n",
    "%tensorboard --logdir ../yolov5/runs/train"
   ]
  },
  {
   "cell_type": "code",
   "execution_count": 12,
   "metadata": {},
   "outputs": [
    {
     "name": "stdout",
     "output_type": "stream",
     "text": [
      "\u001b[34m\u001b[1mtrain: \u001b[0mweights=../yolov5/yolov5s.pt, cfg=../yolov5/models/yolov5m.yaml, data=../applied-machine-learning/pp.yaml, hyp=../yolov5/data/hyps/hyp.scratch-low.yaml, epochs=50, batch_size=8, imgsz=640, rect=False, resume=False, nosave=False, noval=False, noautoanchor=False, evolve=None, bucket=, cache=None, image_weights=False, device=, multi_scale=False, single_cls=False, optimizer=SGD, sync_bn=False, workers=8, project=../yolov5/runs/train, name=PP, exist_ok=False, quad=False, cos_lr=False, label_smoothing=0.0, patience=100, freeze=[0], save_period=-1, local_rank=-1, entity=None, upload_dataset=False, bbox_interval=-1, artifact_alias=latest\n",
      "\u001b[34m\u001b[1mgithub: \u001b[0mup to date with https://github.com/ultralytics/yolov5 ✅\n",
      "YOLOv5 🚀 v6.1-14-g8a66eba torch 1.10.2+cu102 CUDA:0 (NVIDIA GeForce GTX 1650, 3912MiB)\n",
      "\n",
      "\u001b[34m\u001b[1mhyperparameters: \u001b[0mlr0=0.01, lrf=0.01, momentum=0.937, weight_decay=0.0005, warmup_epochs=3.0, warmup_momentum=0.8, warmup_bias_lr=0.1, box=0.05, cls=0.5, cls_pw=1.0, obj=1.0, obj_pw=1.0, iou_t=0.2, anchor_t=4.0, fl_gamma=0.0, hsv_h=0.015, hsv_s=0.7, hsv_v=0.4, degrees=0.0, translate=0.1, scale=0.5, shear=0.0, perspective=0.0, flipud=0.0, fliplr=0.5, mosaic=1.0, mixup=0.0, copy_paste=0.0\n",
      "\u001b[34m\u001b[1mWeights & Biases: \u001b[0mrun 'pip install wandb' to automatically track and visualize YOLOv5 🚀 runs (RECOMMENDED)\n",
      "\u001b[34m\u001b[1mTensorBoard: \u001b[0mStart with 'tensorboard --logdir ../yolov5/runs/train', view at http://localhost:6006/\n",
      "Overriding model.yaml nc=80 with nc=3\n",
      "\n",
      "                 from  n    params  module                                  arguments                     \n",
      "  0                -1  1      5280  models.common.Conv                      [3, 48, 6, 2, 2]              \n",
      "  1                -1  1     41664  models.common.Conv                      [48, 96, 3, 2]                \n",
      "  2                -1  2     65280  models.common.C3                        [96, 96, 2]                   \n",
      "  3                -1  1    166272  models.common.Conv                      [96, 192, 3, 2]               \n",
      "  4                -1  4    444672  models.common.C3                        [192, 192, 4]                 \n",
      "  5                -1  1    664320  models.common.Conv                      [192, 384, 3, 2]              \n",
      "  6                -1  6   2512896  models.common.C3                        [384, 384, 6]                 \n",
      "  7                -1  1   2655744  models.common.Conv                      [384, 768, 3, 2]              \n",
      "  8                -1  2   4134912  models.common.C3                        [768, 768, 2]                 \n",
      "  9                -1  1   1476864  models.common.SPPF                      [768, 768, 5]                 \n",
      " 10                -1  1    295680  models.common.Conv                      [768, 384, 1, 1]              \n",
      " 11                -1  1         0  torch.nn.modules.upsampling.Upsample    [None, 2, 'nearest']          \n",
      " 12           [-1, 6]  1         0  models.common.Concat                    [1]                           \n",
      " 13                -1  2   1182720  models.common.C3                        [768, 384, 2, False]          \n",
      " 14                -1  1     74112  models.common.Conv                      [384, 192, 1, 1]              \n",
      " 15                -1  1         0  torch.nn.modules.upsampling.Upsample    [None, 2, 'nearest']          \n",
      " 16           [-1, 4]  1         0  models.common.Concat                    [1]                           \n",
      " 17                -1  2    296448  models.common.C3                        [384, 192, 2, False]          \n",
      " 18                -1  1    332160  models.common.Conv                      [192, 192, 3, 2]              \n",
      " 19          [-1, 14]  1         0  models.common.Concat                    [1]                           \n",
      " 20                -1  2   1035264  models.common.C3                        [384, 384, 2, False]          \n",
      " 21                -1  1   1327872  models.common.Conv                      [384, 384, 3, 2]              \n",
      " 22          [-1, 10]  1         0  models.common.Concat                    [1]                           \n",
      " 23                -1  2   4134912  models.common.C3                        [768, 768, 2, False]          \n",
      " 24      [17, 20, 23]  1     32328  models.yolo.Detect                      [3, [[10, 13, 16, 30, 33, 23], [30, 61, 62, 45, 59, 119], [116, 90, 156, 198, 373, 326]], [192, 384, 768]]\n",
      "Model Summary: 369 layers, 20879400 parameters, 20879400 gradients, 48.1 GFLOPs\n",
      "\n",
      "Transferred 57/481 items from ../yolov5/yolov5s.pt\n",
      "Scaled weight_decay = 0.0005\n",
      "\u001b[34m\u001b[1moptimizer:\u001b[0m SGD with parameter groups 79 weight (no decay), 82 weight, 82 bias\n",
      "\u001b[34m\u001b[1mtrain: \u001b[0mScanning '/home/sergio/Projects/Doutorado/ML/datasets/PP/labels/train.cac\u001b[0m\n",
      "\u001b[34m\u001b[1mval: \u001b[0mScanning '/home/sergio/Projects/Doutorado/ML/datasets/PP/labels/valid.cache\u001b[0m\n",
      "Plotting labels to ../yolov5/runs/train/PP9/labels.jpg... \n",
      "\n",
      "\u001b[34m\u001b[1mAutoAnchor: \u001b[0m4.21 anchors/target, 1.000 Best Possible Recall (BPR). Current anchors are a good fit to dataset ✅\n",
      "Image sizes 640 train, 640 val\n",
      "Using 8 dataloader workers\n",
      "Logging results to \u001b[1m../yolov5/runs/train/PP9\u001b[0m\n",
      "Starting training for 50 epochs...\n",
      "\n",
      "     Epoch   gpu_mem       box       obj       cls    labels  img_size\n",
      "  0%|          | 0/4 [00:00<?, ?it/s]                                           \n",
      "Traceback (most recent call last):\n",
      "  File \"../yolov5/train.py\", line 643, in <module>\n",
      "    main(opt)\n",
      "  File \"../yolov5/train.py\", line 539, in main\n",
      "    train(opt.hyp, opt, device, callbacks)\n",
      "  File \"../yolov5/train.py\", line 330, in train\n",
      "    pred = model(imgs)  # forward\n",
      "  File \"/home/sergio/.local/lib/python3.8/site-packages/torch/nn/modules/module.py\", line 1102, in _call_impl\n",
      "    return forward_call(*input, **kwargs)\n",
      "  File \"/home/sergio/Projects/Doutorado/ML/yolov5/models/yolo.py\", line 126, in forward\n",
      "    return self._forward_once(x, profile, visualize)  # single-scale inference, train\n",
      "  File \"/home/sergio/Projects/Doutorado/ML/yolov5/models/yolo.py\", line 149, in _forward_once\n",
      "    x = m(x)  # run\n",
      "  File \"/home/sergio/.local/lib/python3.8/site-packages/torch/nn/modules/module.py\", line 1102, in _call_impl\n",
      "    return forward_call(*input, **kwargs)\n",
      "  File \"/home/sergio/Projects/Doutorado/ML/yolov5/models/common.py\", line 139, in forward\n",
      "    return self.cv3(torch.cat((self.m(self.cv1(x)), self.cv2(x)), dim=1))\n",
      "  File \"/home/sergio/.local/lib/python3.8/site-packages/torch/nn/modules/module.py\", line 1102, in _call_impl\n",
      "    return forward_call(*input, **kwargs)\n",
      "  File \"/home/sergio/Projects/Doutorado/ML/yolov5/models/common.py\", line 47, in forward\n",
      "    return self.act(self.bn(self.conv(x)))\n",
      "  File \"/home/sergio/.local/lib/python3.8/site-packages/torch/nn/modules/module.py\", line 1102, in _call_impl\n",
      "    return forward_call(*input, **kwargs)\n",
      "  File \"/home/sergio/.local/lib/python3.8/site-packages/torch/nn/modules/conv.py\", line 446, in forward\n",
      "    return self._conv_forward(input, self.weight, self.bias)\n",
      "  File \"/home/sergio/.local/lib/python3.8/site-packages/torch/nn/modules/conv.py\", line 442, in _conv_forward\n",
      "    return F.conv2d(input, weight, bias, self.stride,\n",
      "RuntimeError: Unable to find a valid cuDNN algorithm to run convolution\n"
     ]
    }
   ],
   "source": [
    "# GPU only supports small models\n",
    "# !python3 ../yolov5/train.py --img 640 --batch 8 --epochs 50 --data ../applied-machine-learning/pp.yaml --cfg ../yolov5/models/yolov5m.yaml --name PP \n",
    "!python3 ../yolov5/train.py --img 640 --batch 8 --epochs 100 --data ../applied-machine-learning/pp.yaml --cfg ../yolov5/models/yolov5l.yaml --name PP --device cpu"
   ]
  }
 ],
 "metadata": {
  "interpreter": {
   "hash": "916dbcbb3f70747c44a77c7bcd40155683ae19c65e1c03b4aa3499c5328201f1"
  },
  "kernelspec": {
   "display_name": "Python 3.8.10 64-bit",
   "language": "python",
   "name": "python3"
  },
  "language_info": {
   "codemirror_mode": {
    "name": "ipython",
    "version": 3
   },
   "file_extension": ".py",
   "mimetype": "text/x-python",
   "name": "python",
   "nbconvert_exporter": "python",
   "pygments_lexer": "ipython3",
   "version": "3.8.10"
  },
  "orig_nbformat": 4
 },
 "nbformat": 4,
 "nbformat_minor": 2
}
