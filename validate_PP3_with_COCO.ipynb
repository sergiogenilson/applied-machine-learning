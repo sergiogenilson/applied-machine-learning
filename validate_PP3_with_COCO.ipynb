{
 "cells": [
  {
   "cell_type": "code",
   "execution_count": 4,
   "metadata": {},
   "outputs": [
    {
     "name": "stdout",
     "output_type": "stream",
     "text": [
      "Downloading split 'validation' to '/home/sergio/fiftyone/coco-2017/validation' if necessary\n",
      "Found annotations at '/home/sergio/fiftyone/coco-2017/raw/instances_val2017.json'\n",
      "Sufficient images already downloaded\n",
      "Existing download of split 'validation' is sufficient\n",
      "Loading existing dataset 'coco-2017-validation'. To reload from disk, either delete the existing dataset or provide a custom `dataset_name` to use\n"
     ]
    }
   ],
   "source": [
    "import fiftyone as fo\n",
    "import fiftyone.zoo as foz\n",
    "\n",
    "validation = foz.load_zoo_dataset(\n",
    "    \"coco-2017\",\n",
    "    split=\"validation\",\n",
    "    label_types=[\"detections\"],\n",
    "    classes=[\"person\", \"cat\", \"dog\"],\n",
    "    # max_samples=100 # remove limitations if project is working\n",
    ")\n",
    "\n"
   ]
  },
  {
   "cell_type": "code",
   "execution_count": 5,
   "metadata": {},
   "outputs": [
    {
     "name": "stdout",
     "output_type": "stream",
     "text": [
      "Directory '../datasets/COCO_PP_format' already exists; export will be merged with existing files\n",
      "   5% |\\--------------|  156/2945 [883.9ms elapsed, 15.8s remaining, 176.5 samples/s] "
     ]
    },
    {
     "name": "stderr",
     "output_type": "stream",
     "text": [
      "/home/sergio/.local/lib/python3.8/site-packages/fiftyone/utils/yolo.py:994: UserWarning: Ignoring detection with label 'cake' not in provided classes\n",
      "  warnings.warn(msg)\n",
      "/home/sergio/.local/lib/python3.8/site-packages/fiftyone/utils/yolo.py:994: UserWarning: Ignoring detection with label 'hot dog' not in provided classes\n",
      "  warnings.warn(msg)\n",
      "/home/sergio/.local/lib/python3.8/site-packages/fiftyone/utils/yolo.py:994: UserWarning: Ignoring detection with label 'carrot' not in provided classes\n",
      "  warnings.warn(msg)\n",
      "/home/sergio/.local/lib/python3.8/site-packages/fiftyone/utils/yolo.py:994: UserWarning: Ignoring detection with label 'broccoli' not in provided classes\n",
      "  warnings.warn(msg)\n",
      "/home/sergio/.local/lib/python3.8/site-packages/fiftyone/utils/yolo.py:994: UserWarning: Ignoring detection with label 'snowboard' not in provided classes\n",
      "  warnings.warn(msg)\n",
      "/home/sergio/.local/lib/python3.8/site-packages/fiftyone/utils/yolo.py:994: UserWarning: Ignoring detection with label 'zebra' not in provided classes\n",
      "  warnings.warn(msg)\n",
      "/home/sergio/.local/lib/python3.8/site-packages/fiftyone/utils/yolo.py:994: UserWarning: Ignoring detection with label 'sandwich' not in provided classes\n",
      "  warnings.warn(msg)\n"
     ]
    },
    {
     "name": "stdout",
     "output_type": "stream",
     "text": [
      "   7% |█/-------------|  202/2945 [1.1s elapsed, 14.8s remaining, 185.6 samples/s]    "
     ]
    },
    {
     "name": "stderr",
     "output_type": "stream",
     "text": [
      "/home/sergio/.local/lib/python3.8/site-packages/fiftyone/utils/yolo.py:994: UserWarning: Ignoring detection with label 'orange' not in provided classes\n",
      "  warnings.warn(msg)\n",
      "/home/sergio/.local/lib/python3.8/site-packages/fiftyone/utils/yolo.py:994: UserWarning: Ignoring detection with label 'parking meter' not in provided classes\n",
      "  warnings.warn(msg)\n",
      "/home/sergio/.local/lib/python3.8/site-packages/fiftyone/utils/yolo.py:994: UserWarning: Ignoring detection with label 'oven' not in provided classes\n",
      "  warnings.warn(msg)\n",
      "/home/sergio/.local/lib/python3.8/site-packages/fiftyone/utils/yolo.py:994: UserWarning: Ignoring detection with label 'donut' not in provided classes\n",
      "  warnings.warn(msg)\n"
     ]
    },
    {
     "name": "stdout",
     "output_type": "stream",
     "text": [
      "  11% |█--------------|  338/2945 [1.6s elapsed, 12.1s remaining, 256.6 samples/s]    "
     ]
    },
    {
     "name": "stderr",
     "output_type": "stream",
     "text": [
      "/home/sergio/.local/lib/python3.8/site-packages/fiftyone/utils/yolo.py:994: UserWarning: Ignoring detection with label 'toothbrush' not in provided classes\n",
      "  warnings.warn(msg)\n",
      "/home/sergio/.local/lib/python3.8/site-packages/fiftyone/utils/yolo.py:994: UserWarning: Ignoring detection with label 'cow' not in provided classes\n",
      "  warnings.warn(msg)\n",
      "/home/sergio/.local/lib/python3.8/site-packages/fiftyone/utils/yolo.py:994: UserWarning: Ignoring detection with label 'giraffe' not in provided classes\n",
      "  warnings.warn(msg)\n"
     ]
    },
    {
     "name": "stdout",
     "output_type": "stream",
     "text": [
      "  20% |██\\------------|  578/2945 [2.5s elapsed, 10.1s remaining, 258.2 samples/s]    "
     ]
    },
    {
     "name": "stderr",
     "output_type": "stream",
     "text": [
      "/home/sergio/.local/lib/python3.8/site-packages/fiftyone/utils/yolo.py:994: UserWarning: Ignoring detection with label 'stop sign' not in provided classes\n",
      "  warnings.warn(msg)\n"
     ]
    },
    {
     "name": "stdout",
     "output_type": "stream",
     "text": [
      "  32% |████/----------|  932/2945 [4.0s elapsed, 8.5s remaining, 242.5 samples/s]     "
     ]
    },
    {
     "name": "stderr",
     "output_type": "stream",
     "text": [
      "/home/sergio/.local/lib/python3.8/site-packages/fiftyone/utils/yolo.py:994: UserWarning: Ignoring detection with label 'toaster' not in provided classes\n",
      "  warnings.warn(msg)\n"
     ]
    },
    {
     "name": "stdout",
     "output_type": "stream",
     "text": [
      "  45% |██████/--------| 1331/2945 [5.6s elapsed, 6.7s remaining, 246.1 samples/s]     "
     ]
    },
    {
     "name": "stderr",
     "output_type": "stream",
     "text": [
      "/home/sergio/.local/lib/python3.8/site-packages/fiftyone/utils/yolo.py:994: UserWarning: Ignoring detection with label 'hair drier' not in provided classes\n",
      "  warnings.warn(msg)\n"
     ]
    },
    {
     "name": "stdout",
     "output_type": "stream",
     "text": [
      "                                                                                      \r"
     ]
    },
    {
     "name": "stderr",
     "output_type": "stream",
     "text": [
      "/home/sergio/.local/lib/python3.8/site-packages/fiftyone/utils/yolo.py:994: UserWarning: Ignoring detection with label 'bear' not in provided classes\n",
      "  warnings.warn(msg)\n"
     ]
    },
    {
     "name": "stdout",
     "output_type": "stream",
     "text": [
      " 100% |███████████████| 2945/2945 [12.1s elapsed, 0s remaining, 233.3 samples/s]      \n"
     ]
    }
   ],
   "source": [
    "export_dir = \"../datasets/COCO_PP_format\"\n",
    "label_field = \"ground_truth\"\n",
    "\n",
    "validation.export(\n",
    "    export_dir=export_dir,\n",
    "    dataset_type=fo.types.YOLOv5Dataset,\n",
    "    label_field=label_field,\n",
    "    classes=[\"person\", \"cat\", \"dog\"]\n",
    ")"
   ]
  },
  {
   "cell_type": "code",
   "execution_count": 7,
   "metadata": {},
   "outputs": [
    {
     "name": "stdout",
     "output_type": "stream",
     "text": [
      "\u001b[34m\u001b[1mval: \u001b[0mdata=../applied-machine-learning/coco_pp.yaml, weights=['../yolov5/runs/train/PP3_small2/weights/best.pt'], batch_size=32, imgsz=640, conf_thres=0.001, iou_thres=0.6, task=val, device=cpu, workers=8, single_cls=False, augment=False, verbose=True, save_txt=True, save_hybrid=False, save_conf=False, save_json=False, project=../yolov5/runs/val, name=COCO_PP3_small2, exist_ok=False, half=False, dnn=False\n",
      "YOLOv5 🚀 v6.1-14-g8a66eba torch 1.10.2+cu102 CPU\n",
      "\n",
      "Fusing layers... \n",
      "Model Summary: 213 layers, 7018216 parameters, 0 gradients, 15.8 GFLOPs\n",
      "\u001b[34m\u001b[1mval: \u001b[0mScanning '/home/sergio/Projects/Doutorado/ML/datasets/COCO_PP_format/labels\u001b[0m\n",
      "\u001b[34m\u001b[1mval: \u001b[0mNew cache created: /home/sergio/Projects/Doutorado/ML/datasets/COCO_PP_format/labels/val.cache\n",
      "               Class     Images     Labels          P          R     mAP@.5 mAP@\n",
      "                 all       2945      11424      0.443      0.338      0.294      0.159\n",
      "              person       2945      11004      0.832      0.288      0.428      0.209\n",
      "                 cat       2945        202      0.315      0.351      0.294      0.172\n",
      "                 dog       2945        218      0.181      0.376      0.158     0.0954\n",
      "Speed: 1.0ms pre-process, 87.2ms inference, 0.9ms NMS per image at shape (32, 3, 640, 640)\n",
      "Results saved to \u001b[1m../yolov5/runs/val/COCO_PP3_small22\u001b[0m\n",
      "2945 labels saved to ../yolov5/runs/val/COCO_PP3_small22/labels\n"
     ]
    }
   ],
   "source": [
    "# validate COCO - PP3_small2\n",
    "!python3 ../yolov5/val.py --weights ../yolov5/runs/train/PP3_small2/weights/best.pt --data ../applied-machine-learning/coco_pp.yaml --verbose --device cpu --name \"COCO_PP3_small2\" --save-txt"
   ]
  },
  {
   "cell_type": "code",
   "execution_count": 8,
   "metadata": {},
   "outputs": [
    {
     "name": "stdout",
     "output_type": "stream",
     "text": [
      "\u001b[34m\u001b[1mval: \u001b[0mdata=../applied-machine-learning/coco_pp.yaml, weights=['../yolov5/runs/train/PP3_small3/weights/best.pt'], batch_size=32, imgsz=640, conf_thres=0.001, iou_thres=0.6, task=val, device=cpu, workers=8, single_cls=True, augment=False, verbose=True, save_txt=False, save_hybrid=False, save_conf=False, save_json=False, project=../yolov5/runs/val, name=COCO_PP3_small3_, exist_ok=False, half=False, dnn=False\n",
      "YOLOv5 🚀 v6.1-14-g8a66eba torch 1.10.2+cu102 CPU\n",
      "\n",
      "Fusing layers... \n",
      "Model Summary: 213 layers, 7012822 parameters, 0 gradients, 15.8 GFLOPs\n",
      "\u001b[34m\u001b[1mval: \u001b[0mScanning '/home/sergio/Projects/Doutorado/ML/datasets/COCO_PP_format/labels\u001b[0m\n",
      "               Class     Images     Labels          P          R     mAP@.5 mAP@\n",
      "                 all       2945      11424      0.621      0.482      0.497      0.258\n",
      "Speed: 1.0ms pre-process, 87.6ms inference, 0.7ms NMS per image at shape (32, 3, 640, 640)\n",
      "Results saved to \u001b[1m../yolov5/runs/val/COCO_PP3_small3_\u001b[0m\n"
     ]
    }
   ],
   "source": [
    "# validate COCO - PP3_small3 -> SINGLE CLASS\n",
    "!python3 ../yolov5/val.py --weights ../yolov5/runs/train/PP3_small3/weights/best.pt --data ../applied-machine-learning/coco_pp.yaml --verbose --device cpu --name \"COCO_PP3_small3_\" --single-cls"
   ]
  },
  {
   "cell_type": "code",
   "execution_count": 9,
   "metadata": {},
   "outputs": [
    {
     "name": "stdout",
     "output_type": "stream",
     "text": [
      "\u001b[34m\u001b[1mval: \u001b[0mdata=../applied-machine-learning/coco_pp.yaml, weights=['../yolov5/runs/train/PP3_m4/weights/best.pt'], batch_size=32, imgsz=640, conf_thres=0.001, iou_thres=0.6, task=val, device=, workers=8, single_cls=False, augment=False, verbose=True, save_txt=False, save_hybrid=False, save_conf=False, save_json=False, project=../yolov5/runs/val, name=COCO_PP3_m4, exist_ok=False, half=False, dnn=False\n",
      "YOLOv5 🚀 v6.1-14-g8a66eba torch 1.10.2+cu102 CUDA:0 (NVIDIA GeForce GTX 1650, 3912MiB)\n",
      "\n",
      "Fusing layers... \n",
      "Model Summary: 290 layers, 20861016 parameters, 0 gradients, 48.0 GFLOPs\n",
      "\u001b[34m\u001b[1mval: \u001b[0mScanning '/home/sergio/Projects/Doutorado/ML/datasets/COCO_PP_format/labels\u001b[0m\n",
      "               Class     Images     Labels          P          R     mAP@.5 mAP@\n",
      "                 all       2945      11424      0.469      0.401       0.33      0.187\n",
      "              person       2945      11004       0.87       0.32      0.494      0.263\n",
      "                 cat       2945        202      0.344      0.406       0.29      0.169\n",
      "                 dog       2945        218      0.193      0.477      0.207      0.129\n",
      "Speed: 0.3ms pre-process, 25.7ms inference, 1.5ms NMS per image at shape (32, 3, 640, 640)\n",
      "Results saved to \u001b[1m../yolov5/runs/val/COCO_PP3_m4\u001b[0m\n"
     ]
    }
   ],
   "source": [
    "# validate COCO - PP3_m4\n",
    "!python3 ../yolov5/val.py --weights ../yolov5/runs/train/PP3_m4/weights/best.pt --data ../applied-machine-learning/coco_pp.yaml --verbose --name \"COCO_PP3_m4\""
   ]
  }
 ],
 "metadata": {
  "interpreter": {
   "hash": "916dbcbb3f70747c44a77c7bcd40155683ae19c65e1c03b4aa3499c5328201f1"
  },
  "kernelspec": {
   "display_name": "Python 3.8.10 64-bit",
   "language": "python",
   "name": "python3"
  },
  "language_info": {
   "codemirror_mode": {
    "name": "ipython",
    "version": 3
   },
   "file_extension": ".py",
   "mimetype": "text/x-python",
   "name": "python",
   "nbconvert_exporter": "python",
   "pygments_lexer": "ipython3",
   "version": "3.8.10"
  },
  "orig_nbformat": 4
 },
 "nbformat": 4,
 "nbformat_minor": 2
}
