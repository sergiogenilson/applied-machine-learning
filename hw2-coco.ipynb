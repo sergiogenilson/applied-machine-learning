{
 "cells": [
  {
   "cell_type": "markdown",
   "metadata": {},
   "source": [
    "# Usin COCO\n",
    "\n",
    "First, we will import fiftyone lib and dowload the datasets"
   ]
  },
  {
   "cell_type": "code",
   "execution_count": 1,
   "metadata": {},
   "outputs": [
    {
     "name": "stdout",
     "output_type": "stream",
     "text": [
      "Downloading split 'train' to '/home/sergio/fiftyone/coco-2017/train' if necessary\n",
      "Downloading annotations to '/home/sergio/fiftyone/coco-2017/tmp-download/annotations_trainval2017.zip'\n",
      " 100% |██████|    1.9Gb/1.9Gb [24.8s elapsed, 0s remaining, 154.2Mb/s]      \n",
      "Extracting annotations to '/home/sergio/fiftyone/coco-2017/raw/instances_train2017.json'\n",
      "Downloading 250 images\n",
      " 100% |██████████████████| 250/250 [55.8s elapsed, 0s remaining, 4.4 images/s]      \n",
      "Writing annotations for 250 downloaded samples to '/home/sergio/fiftyone/coco-2017/train/labels.json'\n",
      "Dataset info written to '/home/sergio/fiftyone/coco-2017/info.json'\n",
      "Loading 'coco-2017' split 'train'\n",
      " 100% |█████████████████| 250/250 [902.3ms elapsed, 0s remaining, 277.4 samples/s]      \n",
      "Dataset 'coco-2017-train-250' created\n"
     ]
    },
    {
     "data": {
      "text/html": [
       "\n",
       "        <iframe\n",
       "            width=\"100%\"\n",
       "            height=\"800\"\n",
       "            src=\"http://localhost:5151/?notebook=true&handleId=ecae0078-261a-49ef-8601-debf8412a1f4\"\n",
       "            frameborder=\"0\"\n",
       "            allowfullscreen\n",
       "        ></iframe>\n",
       "        "
      ],
      "text/plain": [
       "<IPython.lib.display.IFrame at 0x7f4e8cd01a00>"
      ]
     },
     "metadata": {},
     "output_type": "display_data"
    }
   ],
   "source": [
    "import fiftyone as fo\n",
    "import fiftyone.zoo as foz\n",
    "\n",
    "train = foz.load_zoo_dataset(\n",
    "    \"coco-2017\",\n",
    "    split=\"train\",\n",
    "    label_types=[\"detections\"],\n",
    "    max_samples=250,\n",
    ")\n",
    "\n",
    "session = fo.launch_app(train)"
   ]
  }
 ],
 "metadata": {
  "interpreter": {
   "hash": "31f2aee4e71d21fbe5cf8b01ff0e069b9275f58929596ceb00d14d90e3e16cd6"
  },
  "kernelspec": {
   "display_name": "Python 3.8.10 64-bit",
   "language": "python",
   "name": "python3"
  },
  "language_info": {
   "codemirror_mode": {
    "name": "ipython",
    "version": 3
   },
   "file_extension": ".py",
   "mimetype": "text/x-python",
   "name": "python",
   "nbconvert_exporter": "python",
   "pygments_lexer": "ipython3",
   "version": "3.8.10"
  },
  "orig_nbformat": 4
 },
 "nbformat": 4,
 "nbformat_minor": 2
}
