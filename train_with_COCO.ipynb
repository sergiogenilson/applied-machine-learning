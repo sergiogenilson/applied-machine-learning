{
 "cells": [
  {
   "cell_type": "code",
   "execution_count": 6,
   "metadata": {},
   "outputs": [
    {
     "name": "stdout",
     "output_type": "stream",
     "text": [
      "Downloading split 'train' to '/home/sergio/fiftyone/coco-2017/train' if necessary\n",
      "Found annotations at '/home/sergio/fiftyone/coco-2017/raw/instances_train2017.json'\n",
      "Sufficient images already downloaded\n",
      "Existing download of split 'train' is sufficient\n",
      "Loading existing dataset 'coco-2017-train'. To reload from disk, either delete the existing dataset or provide a custom `dataset_name` to use\n",
      "Downloading split 'test' to '/home/sergio/fiftyone/coco-2017/test' if necessary\n",
      "Test split is unlabeled; ignoring classes requirement\n",
      "Found test info at '/home/sergio/fiftyone/coco-2017/raw/image_info_test2017.json'\n",
      "Found 1000 (< 40670) downloaded images; must download full image zip\n",
      "Downloading images to '/home/sergio/fiftyone/coco-2017/tmp-download/test2017.zip'\n",
      " 100% |█████|   49.5Gb/49.5Gb [10.9m elapsed, 0s remaining, 78.8Mb/s]      \n",
      "Extracting images to '/home/sergio/fiftyone/coco-2017/test/data'\n",
      "Writing annotations to '/home/sergio/fiftyone/coco-2017/test/labels.json'\n",
      "Dataset info written to '/home/sergio/fiftyone/coco-2017/info.json'\n",
      "Loading 'coco-2017' split 'test'\n",
      "Dataset is unlabeled; ignoring classes requirement\n",
      " 100% |█████████████| 40670/40670 [11.8s elapsed, 0s remaining, 3.4K samples/s]      \n",
      "Dataset 'coco-2017-test' created\n",
      "Downloading split 'validation' to '/home/sergio/fiftyone/coco-2017/validation' if necessary\n",
      "Found annotations at '/home/sergio/fiftyone/coco-2017/raw/instances_val2017.json'\n",
      "Sufficient images already downloaded\n",
      "Existing download of split 'validation' is sufficient\n",
      "Loading 'coco-2017' split 'validation'\n",
      " 100% |███████████████| 2945/2945 [13.9s elapsed, 0s remaining, 214.2 samples/s]      \n",
      "Dataset 'coco-2017-validation' created\n"
     ]
    }
   ],
   "source": [
    "import fiftyone as fo\n",
    "import fiftyone.zoo as foz\n",
    "\n",
    "train = foz.load_zoo_dataset(\n",
    "    \"coco-2017\",\n",
    "    split=\"train\",\n",
    "    label_types=[\"detections\"],\n",
    "    classes=[\"person\", \"cat\", \"dog\"],\n",
    "    # max_samples=100 # remove limitations if project is working\n",
    ")\n",
    "\n",
    "test = foz.load_zoo_dataset(\n",
    "    \"coco-2017\",\n",
    "    split=\"test\",\n",
    "    label_types=[\"detections\"],\n",
    "    classes=[\"person\", \"cat\", \"dog\"],\n",
    "    # max_samples=100 # remove limitations if project is working\n",
    ")\n",
    "\n",
    "validation = foz.load_zoo_dataset(\n",
    "    \"coco-2017\",\n",
    "    split=\"validation\",\n",
    "    label_types=[\"detections\"],\n",
    "    classes=[\"person\", \"cat\", \"dog\"],\n",
    "    # max_samples=100 # remove limitations if project is working\n",
    ")"
   ]
  },
  {
   "cell_type": "code",
   "execution_count": 7,
   "metadata": {},
   "outputs": [
    {
     "name": "stdout",
     "output_type": "stream",
     "text": [
      "   5% |---------------|  155/2945 [769.4ms elapsed, 13.8s remaining, 201.5 samples/s] "
     ]
    },
    {
     "name": "stderr",
     "output_type": "stream",
     "text": [
      "/home/sergio/.local/lib/python3.8/site-packages/fiftyone/utils/yolo.py:994: UserWarning: Ignoring detection with label 'hot dog' not in provided classes\n",
      "  warnings.warn(msg)\n",
      "/home/sergio/.local/lib/python3.8/site-packages/fiftyone/utils/yolo.py:994: UserWarning: Ignoring detection with label 'carrot' not in provided classes\n",
      "  warnings.warn(msg)\n",
      "/home/sergio/.local/lib/python3.8/site-packages/fiftyone/utils/yolo.py:994: UserWarning: Ignoring detection with label 'zebra' not in provided classes\n",
      "  warnings.warn(msg)\n",
      "/home/sergio/.local/lib/python3.8/site-packages/fiftyone/utils/yolo.py:994: UserWarning: Ignoring detection with label 'sandwich' not in provided classes\n",
      "  warnings.warn(msg)\n"
     ]
    },
    {
     "name": "stdout",
     "output_type": "stream",
     "text": [
      "   7% |█|-------------|  200/2945 [973.4ms elapsed, 13.4s remaining, 205.5 samples/s] "
     ]
    },
    {
     "name": "stderr",
     "output_type": "stream",
     "text": [
      "/home/sergio/.local/lib/python3.8/site-packages/fiftyone/utils/yolo.py:994: UserWarning: Ignoring detection with label 'orange' not in provided classes\n",
      "  warnings.warn(msg)\n",
      "/home/sergio/.local/lib/python3.8/site-packages/fiftyone/utils/yolo.py:994: UserWarning: Ignoring detection with label 'parking meter' not in provided classes\n",
      "  warnings.warn(msg)\n"
     ]
    },
    {
     "name": "stdout",
     "output_type": "stream",
     "text": [
      "  11% |█/-------------|  333/2945 [1.5s elapsed, 11.5s remaining, 253.5 samples/s]    "
     ]
    },
    {
     "name": "stderr",
     "output_type": "stream",
     "text": [
      "/home/sergio/.local/lib/python3.8/site-packages/fiftyone/utils/yolo.py:994: UserWarning: Ignoring detection with label 'toothbrush' not in provided classes\n",
      "  warnings.warn(msg)\n",
      "/home/sergio/.local/lib/python3.8/site-packages/fiftyone/utils/yolo.py:994: UserWarning: Ignoring detection with label 'cow' not in provided classes\n",
      "  warnings.warn(msg)\n"
     ]
    },
    {
     "name": "stdout",
     "output_type": "stream",
     "text": [
      "  32% |████|----------|  939/2945 [3.8s elapsed, 8.2s remaining, 247.6 samples/s]     "
     ]
    },
    {
     "name": "stderr",
     "output_type": "stream",
     "text": [
      "/home/sergio/.local/lib/python3.8/site-packages/fiftyone/utils/yolo.py:994: UserWarning: Ignoring detection with label 'toaster' not in provided classes\n",
      "  warnings.warn(msg)\n"
     ]
    },
    {
     "name": "stdout",
     "output_type": "stream",
     "text": [
      "  45% |██████---------| 1336/2945 [5.3s elapsed, 6.1s remaining, 275.0 samples/s]     "
     ]
    },
    {
     "name": "stderr",
     "output_type": "stream",
     "text": [
      "/home/sergio/.local/lib/python3.8/site-packages/fiftyone/utils/yolo.py:994: UserWarning: Ignoring detection with label 'hair drier' not in provided classes\n",
      "  warnings.warn(msg)\n"
     ]
    },
    {
     "name": "stdout",
     "output_type": "stream",
     "text": [
      "  61% |█████████\\-----| 1789/2945 [7.0s elapsed, 4.3s remaining, 272.8 samples/s]     "
     ]
    },
    {
     "name": "stderr",
     "output_type": "stream",
     "text": [
      "/home/sergio/.local/lib/python3.8/site-packages/fiftyone/utils/yolo.py:994: UserWarning: Ignoring detection with label 'bear' not in provided classes\n",
      "  warnings.warn(msg)\n"
     ]
    },
    {
     "name": "stdout",
     "output_type": "stream",
     "text": [
      " 100% |███████████████| 2945/2945 [11.3s elapsed, 0s remaining, 263.6 samples/s]      \n",
      "Directory '../datasets/COCO_COMPL_PP' already exists; export will be merged with existing files\n",
      " 100% |█████████████| 40670/40670 [25.3s elapsed, 0s remaining, 718.2 samples/s]      \n",
      "Directory '../datasets/COCO_COMPL_PP' already exists; export will be merged with existing files\n",
      " 100% |█████████████| 69713/69713 [4.3m elapsed, 0s remaining, 249.2 samples/s]       \n"
     ]
    }
   ],
   "source": [
    "export_dir = \"../datasets/COCO_COMPL_PP\"\n",
    "label_field = \"ground_truth\"\n",
    "\n",
    "validation.export(\n",
    "    export_dir=export_dir,\n",
    "    dataset_type=fo.types.YOLOv5Dataset,\n",
    "    label_field=label_field,\n",
    "    classes=[\"person\", \"cat\", \"dog\"]\n",
    ")\n",
    "\n",
    "test.export(\n",
    "    export_dir=export_dir,\n",
    "    dataset_type=fo.types.YOLOv5Dataset,\n",
    "    label_field=label_field,\n",
    "    split=\"test\",\n",
    "    classes=[\"person\", \"cat\", \"dog\"]\n",
    ")\n",
    "\n",
    "train.export(\n",
    "    export_dir=export_dir,\n",
    "    dataset_type=fo.types.YOLOv5Dataset,\n",
    "    label_field=label_field,\n",
    "    split=\"train\",\n",
    "    classes=[\"person\", \"cat\", \"dog\"]\n",
    ")"
   ]
  },
  {
   "cell_type": "code",
   "execution_count": null,
   "metadata": {},
   "outputs": [],
   "source": [
    "# data Clieaning... Remove some persons\n"
   ]
  },
  {
   "cell_type": "code",
   "execution_count": 8,
   "metadata": {},
   "outputs": [
    {
     "name": "stdout",
     "output_type": "stream",
     "text": [
      "\u001b[34m\u001b[1mtrain: \u001b[0mweights=../yolov5/yolov5s.pt, cfg=../yolov5/models/yolov5s.yaml, data=../applied-machine-learning/coco_pp.yaml, hyp=../yolov5/data/hyps/hyp.scratch-low.yaml, epochs=100, batch_size=8, imgsz=640, rect=False, resume=False, nosave=False, noval=False, noautoanchor=False, evolve=None, bucket=, cache=None, image_weights=False, device=, multi_scale=False, single_cls=False, optimizer=SGD, sync_bn=False, workers=8, project=../yolov5/runs/train, name=COCO_PP, exist_ok=False, quad=False, cos_lr=False, label_smoothing=0.0, patience=100, freeze=[0], save_period=-1, local_rank=-1, entity=None, upload_dataset=False, bbox_interval=-1, artifact_alias=latest\n",
      "remote: Enumerating objects: 127, done.\u001b[K\n",
      "remote: Counting objects: 100% (53/53), done.\u001b[K\n",
      "remote: Compressing objects: 100% (2/2), done.\u001b[K\n",
      "remote: Total 127 (delta 52), reused 51 (delta 51), pack-reused 74\u001b[K\n",
      "Receiving objects: 100% (127/127), 77.81 KiB | 7.78 MiB/s, done.\n",
      "Resolving deltas: 100% (82/82), completed with 17 local objects.\n",
      "From https://github.com/ultralytics/yolov5\n",
      "   055e72a..3f634d4  master              -> origin/master\n",
      " * [new branch]      test/conv_reduction -> origin/test/conv_reduction\n",
      "   8c1baca..411be85  update/dataloader   -> origin/update/dataloader\n",
      " * [new branch]      update/ddp          -> origin/update/ddp\n",
      "\u001b[34m\u001b[1mgithub: \u001b[0m⚠️ YOLOv5 is out of date by 23 commits. Use `git pull` or `git clone https://github.com/ultralytics/yolov5` to update.\n",
      "YOLOv5 🚀 v6.1-14-g8a66eba torch 1.10.2+cu102 CUDA:0 (NVIDIA GeForce GTX 1650, 3912MiB)\n",
      "\n",
      "\u001b[34m\u001b[1mhyperparameters: \u001b[0mlr0=0.01, lrf=0.01, momentum=0.937, weight_decay=0.0005, warmup_epochs=3.0, warmup_momentum=0.8, warmup_bias_lr=0.1, box=0.05, cls=0.5, cls_pw=1.0, obj=1.0, obj_pw=1.0, iou_t=0.2, anchor_t=4.0, fl_gamma=0.0, hsv_h=0.015, hsv_s=0.7, hsv_v=0.4, degrees=0.0, translate=0.1, scale=0.5, shear=0.0, perspective=0.0, flipud=0.0, fliplr=0.5, mosaic=1.0, mixup=0.0, copy_paste=0.0\n",
      "\u001b[34m\u001b[1mWeights & Biases: \u001b[0mrun 'pip install wandb' to automatically track and visualize YOLOv5 🚀 runs (RECOMMENDED)\n",
      "\u001b[34m\u001b[1mTensorBoard: \u001b[0mStart with 'tensorboard --logdir ../yolov5/runs/train', view at http://localhost:6006/\n",
      "Overriding model.yaml nc=80 with nc=3\n",
      "\n",
      "                 from  n    params  module                                  arguments                     \n",
      "  0                -1  1      3520  models.common.Conv                      [3, 32, 6, 2, 2]              \n",
      "  1                -1  1     18560  models.common.Conv                      [32, 64, 3, 2]                \n",
      "  2                -1  1     18816  models.common.C3                        [64, 64, 1]                   \n",
      "  3                -1  1     73984  models.common.Conv                      [64, 128, 3, 2]               \n",
      "  4                -1  2    115712  models.common.C3                        [128, 128, 2]                 \n",
      "  5                -1  1    295424  models.common.Conv                      [128, 256, 3, 2]              \n",
      "  6                -1  3    625152  models.common.C3                        [256, 256, 3]                 \n",
      "  7                -1  1   1180672  models.common.Conv                      [256, 512, 3, 2]              \n",
      "  8                -1  1   1182720  models.common.C3                        [512, 512, 1]                 \n",
      "  9                -1  1    656896  models.common.SPPF                      [512, 512, 5]                 \n",
      " 10                -1  1    131584  models.common.Conv                      [512, 256, 1, 1]              \n",
      " 11                -1  1         0  torch.nn.modules.upsampling.Upsample    [None, 2, 'nearest']          \n",
      " 12           [-1, 6]  1         0  models.common.Concat                    [1]                           \n",
      " 13                -1  1    361984  models.common.C3                        [512, 256, 1, False]          \n",
      " 14                -1  1     33024  models.common.Conv                      [256, 128, 1, 1]              \n",
      " 15                -1  1         0  torch.nn.modules.upsampling.Upsample    [None, 2, 'nearest']          \n",
      " 16           [-1, 4]  1         0  models.common.Concat                    [1]                           \n",
      " 17                -1  1     90880  models.common.C3                        [256, 128, 1, False]          \n",
      " 18                -1  1    147712  models.common.Conv                      [128, 128, 3, 2]              \n",
      " 19          [-1, 14]  1         0  models.common.Concat                    [1]                           \n",
      " 20                -1  1    296448  models.common.C3                        [256, 256, 1, False]          \n",
      " 21                -1  1    590336  models.common.Conv                      [256, 256, 3, 2]              \n",
      " 22          [-1, 10]  1         0  models.common.Concat                    [1]                           \n",
      " 23                -1  1   1182720  models.common.C3                        [512, 512, 1, False]          \n",
      " 24      [17, 20, 23]  1     21576  models.yolo.Detect                      [3, [[10, 13, 16, 30, 33, 23], [30, 61, 62, 45, 59, 119], [116, 90, 156, 198, 373, 326]], [128, 256, 512]]\n",
      "Model Summary: 270 layers, 7027720 parameters, 7027720 gradients, 15.9 GFLOPs\n",
      "\n",
      "Transferred 342/349 items from ../yolov5/yolov5s.pt\n",
      "Scaled weight_decay = 0.0005\n",
      "\u001b[34m\u001b[1moptimizer:\u001b[0m SGD with parameter groups 57 weight (no decay), 60 weight, 60 bias\n",
      "\u001b[34m\u001b[1mtrain: \u001b[0mScanning '/home/sergio/Projects/Doutorado/ML/datasets/COCO_COMPL_PP/label\u001b[0m\n",
      "\u001b[34m\u001b[1mtrain: \u001b[0mNew cache created: /home/sergio/Projects/Doutorado/ML/datasets/COCO_COMPL_PP/labels/train.cache\n",
      "\u001b[34m\u001b[1mval: \u001b[0mScanning '/home/sergio/Projects/Doutorado/ML/datasets/COCO_COMPL_PP/labels/\u001b[0m\n",
      "\u001b[34m\u001b[1mval: \u001b[0mNew cache created: /home/sergio/Projects/Doutorado/ML/datasets/COCO_COMPL_PP/labels/val.cache\n",
      "Plotting labels to ../yolov5/runs/train/COCO_PP/labels.jpg... \n",
      "\n",
      "\u001b[34m\u001b[1mAutoAnchor: \u001b[0m4.40 anchors/target, 0.997 Best Possible Recall (BPR). Current anchors are a good fit to dataset ✅\n",
      "Image sizes 640 train, 640 val\n",
      "Using 8 dataloader workers\n",
      "Logging results to \u001b[1m../yolov5/runs/train/COCO_PP\u001b[0m\n",
      "Starting training for 100 epochs...\n",
      "\n",
      "     Epoch   gpu_mem       box       obj       cls    labels  img_size\n",
      "      0/99     1.73G    0.1099   0.04629   0.03186        40       640:   2%|▏  ^C\n"
     ]
    }
   ],
   "source": [
    "# train yolo with PP dataset in COCO format\n",
    "!python3 ../yolov5/train.py --img 640 --batch 8 --epochs 100 --data ../applied-machine-learning/coco_pp.yaml --cfg ../yolov5/models/yolov5s.yaml --name COCO_PP"
   ]
  }
 ],
 "metadata": {
  "interpreter": {
   "hash": "e55666fbbf217aa3df372b978577f47b6009e2f78e2ec76a584f49cd54a1e62c"
  },
  "kernelspec": {
   "display_name": "Python 2.7.18 64-bit",
   "language": "python",
   "name": "python3"
  },
  "language_info": {
   "codemirror_mode": {
    "name": "ipython",
    "version": 3
   },
   "file_extension": ".py",
   "mimetype": "text/x-python",
   "name": "python",
   "nbconvert_exporter": "python",
   "pygments_lexer": "ipython3",
   "version": "3.8.10"
  },
  "orig_nbformat": 4
 },
 "nbformat": 4,
 "nbformat_minor": 2
}
