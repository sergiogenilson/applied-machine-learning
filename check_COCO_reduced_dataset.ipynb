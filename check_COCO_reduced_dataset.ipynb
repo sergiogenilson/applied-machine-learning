{
 "cells": [
  {
   "cell_type": "code",
   "execution_count": 3,
   "metadata": {},
   "outputs": [],
   "source": [
    "import fiftyone as fo\n",
    "import fiftyone.zoo as foz"
   ]
  },
  {
   "cell_type": "code",
   "execution_count": 7,
   "metadata": {},
   "outputs": [
    {
     "name": "stdout",
     "output_type": "stream",
     "text": [
      " 100% |█████████████████| 381/381 [475.2ms elapsed, 0s remaining, 803.9 samples/s]      \n",
      "Name:        2022.04.26.15.29.56\n",
      "Media type:  image\n",
      "Num samples: 381\n",
      "Persistent:  False\n",
      "Tags:        []\n",
      "Sample fields:\n",
      "    id:           fiftyone.core.fields.ObjectIdField\n",
      "    filepath:     fiftyone.core.fields.StringField\n",
      "    tags:         fiftyone.core.fields.ListField(fiftyone.core.fields.StringField)\n",
      "    metadata:     fiftyone.core.fields.EmbeddedDocumentField(fiftyone.core.metadata.Metadata)\n",
      "    ground_truth: fiftyone.core.fields.EmbeddedDocumentField(fiftyone.core.labels.Detections)\n"
     ]
    }
   ],
   "source": [
    "dataset_dir = \"../datasets/COCO_REDUC_PP\"\n",
    "dataset_type = fo.types.YOLOv5Dataset\n",
    "validation = fo.Dataset.from_dir(\n",
    "    dataset_dir=dataset_dir,\n",
    "    dataset_type=dataset_type,\n",
    "    split=\"val\"\n",
    ")\n",
    "print(validation)"
   ]
  },
  {
   "cell_type": "code",
   "execution_count": 5,
   "metadata": {},
   "outputs": [
    {
     "name": "stdout",
     "output_type": "stream",
     "text": [
      " 100% |█████████████████| 372/372 [415.9ms elapsed, 0s remaining, 897.4 samples/s]      \n",
      "Name:        2022.04.26.15.27.24\n",
      "Media type:  image\n",
      "Num samples: 372\n",
      "Persistent:  False\n",
      "Tags:        []\n",
      "Sample fields:\n",
      "    id:           fiftyone.core.fields.ObjectIdField\n",
      "    filepath:     fiftyone.core.fields.StringField\n",
      "    tags:         fiftyone.core.fields.ListField(fiftyone.core.fields.StringField)\n",
      "    metadata:     fiftyone.core.fields.EmbeddedDocumentField(fiftyone.core.metadata.Metadata)\n",
      "    ground_truth: fiftyone.core.fields.EmbeddedDocumentField(fiftyone.core.labels.Detections)\n"
     ]
    }
   ],
   "source": [
    "results_dir = \"../yolov5/runs/detect/COCO_PP_UFSC3\"\n",
    "val_res = fo.Dataset.from_dir(\n",
    "    dataset_dir=results_dir,\n",
    "    dataset_type=dataset_type,\n",
    "    split=\"result\"\n",
    ")\n",
    "\n",
    "# some information\n",
    "print(val_res)"
   ]
  },
  {
   "cell_type": "code",
   "execution_count": 31,
   "metadata": {},
   "outputs": [
    {
     "name": "stdout",
     "output_type": "stream",
     "text": [
      "No predictions found for  000000126110                                                  \n",
      "No predictions found for  000000167122\n",
      "No predictions found for  000000223747                                                  \n",
      "No predictions found for  000000262938\n",
      "No predictions found for  000000272136\n",
      "No predictions found for  000000297085                                                  \n",
      "No predictions found for  000000350054                                                  \n",
      "No predictions found for  000000359677\n",
      "No predictions found for  000000555005                                                  \n",
      " 100% |█████████████████| 381/381 [1.0s elapsed, 0s remaining, 381.9 samples/s]         \n"
     ]
    }
   ],
   "source": [
    "import os\n",
    "\n",
    "classes = [\"person\", \"cat\", \"dog\"]\n",
    "\n",
    "# sample[\"pp_ufsc_3\"] = fo.Detections(\n",
    "#     detections=[\n",
    "#         fo.Detection(label=\"cat\", bounding_box=[0.5, 0.5, 0.4, 0.3])\n",
    "#     ]\n",
    "# )\n",
    "\n",
    "pp_ufsc_3_results_dir = \"../yolov5/runs/detect/COCO_PP_UFSC3/labels/\"\n",
    "\n",
    "with fo.ProgressBar() as pb:\n",
    "    for sample in pb(validation):\n",
    "        base = os.path.basename(sample.filepath)\n",
    "        fileName = os.path.splitext(base)[0]       \n",
    "        detections = []\n",
    "        labelPath = pp_ufsc_3_results_dir + fileName + \".txt\"\n",
    "        if os.path.isfile(labelPath):\n",
    "            with open(labelPath) as f:\n",
    "                for line in f:\n",
    "\n",
    "                    s = line.split(\"\\n\") # remove line break\n",
    "                    s = s[0].split(\" \")\n",
    "\n",
    "                    detections.append(\n",
    "                        fo.Detection(\n",
    "                            label=classes[int(s[0])],\n",
    "                            bounding_box=[\n",
    "                                float(s[1]) - float(s[3])/2,\n",
    "                                float(s[2]) - float(s[4])/2,\n",
    "                                float(s[3]),\n",
    "                                float(s[4]),\n",
    "                            ]\n",
    "                        )\n",
    "                    )\n",
    "\n",
    "        else:\n",
    "            print(\"No predictions found for \", fileName)\n",
    "\n",
    "        sample[\"pp_ufsc_3\"] = fo.Detections(\n",
    "            detections=detections\n",
    "        )\n",
    "\n",
    "        sample.save()\n",
    "\n"
   ]
  },
  {
   "cell_type": "code",
   "execution_count": 32,
   "metadata": {},
   "outputs": [
    {
     "data": {
      "text/html": [
       "\n",
       "        <iframe\n",
       "            width=\"100%\"\n",
       "            height=\"800\"\n",
       "            src=\"http://localhost:5151/?notebook=true&handleId=074dcec1-f3cc-4000-9282-3c8a6af57980\"\n",
       "            frameborder=\"0\"\n",
       "            allowfullscreen\n",
       "        ></iframe>\n",
       "        "
      ],
      "text/plain": [
       "<IPython.lib.display.IFrame at 0x7f02b840c730>"
      ]
     },
     "metadata": {},
     "output_type": "display_data"
    }
   ],
   "source": [
    "# Look at the data\n",
    "session = fo.launch_app(validation)"
   ]
  }
 ],
 "metadata": {
  "interpreter": {
   "hash": "916dbcbb3f70747c44a77c7bcd40155683ae19c65e1c03b4aa3499c5328201f1"
  },
  "kernelspec": {
   "display_name": "Python 3.8.10 64-bit",
   "language": "python",
   "name": "python3"
  },
  "language_info": {
   "codemirror_mode": {
    "name": "ipython",
    "version": 3
   },
   "file_extension": ".py",
   "mimetype": "text/x-python",
   "name": "python",
   "nbconvert_exporter": "python",
   "pygments_lexer": "ipython3",
   "version": "3.8.10"
  },
  "orig_nbformat": 4
 },
 "nbformat": 4,
 "nbformat_minor": 2
}
