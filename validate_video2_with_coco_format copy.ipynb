{
 "cells": [
  {
   "cell_type": "code",
   "execution_count": 1,
   "metadata": {},
   "outputs": [],
   "source": [
    "# Convert labels from ['person', 'cat', 'dog'] format to coco format\n",
    "\n",
    "import glob\n",
    "\n",
    "validation_dir = \"../datasets/video2_COCO_FORMAT/labels/valid/\"\n",
    "\n",
    "def convert_classes(dir):\n",
    "    for file in glob.glob(dir + \"*.txt\"):\n",
    "        new_labels = \"\"\n",
    "        with open(file) as f:\n",
    "            for line in f:\n",
    "                s = line.split(\" \", 1)\n",
    "                if s[0] == \"0\":  # person\n",
    "                    new_labels += \"0 \" + s[1]\n",
    "                if s[0] == \"1\": # cat\n",
    "                    new_labels += \"15 \" + s[1]\n",
    "                elif s[0] == \"2\": # dog\n",
    "                    new_labels += \"16 \" + s[1]\n",
    "            f.close()\n",
    "        \n",
    "        fout = open(file, \"w\")\n",
    "        fout.write(new_labels)\n",
    "        fout.close()\n",
    "\n",
    "convert_classes(validation_dir)\n"
   ]
  },
  {
   "cell_type": "code",
   "execution_count": 3,
   "metadata": {},
   "outputs": [
    {
     "name": "stdout",
     "output_type": "stream",
     "text": [
      "\u001b[34m\u001b[1mval: \u001b[0mdata=../applied-machine-learning/video2_COCO_FORMAT.yaml, weights=['yolov5s.pt'], batch_size=32, imgsz=640, conf_thres=0.001, iou_thres=0.6, task=val, device=cpu, workers=8, single_cls=False, augment=False, verbose=True, save_txt=False, save_hybrid=False, save_conf=False, save_json=False, project=../yolov5/runs/val, name=exp, exist_ok=False, half=False, dnn=False\n",
      "YOLOv5 🚀 v6.1-14-g8a66eba torch 1.10.2+cu102 CPU\n",
      "\n",
      "Downloading https://github.com/ultralytics/yolov5/releases/download/v6.1/yolov5s.pt to yolov5s.pt...\n",
      "100%|██████████████████████████████████████| 14.1M/14.1M [00:01<00:00, 10.1MB/s]\n",
      "\n",
      "Fusing layers... \n",
      "Model Summary: 213 layers, 7225885 parameters, 0 gradients, 16.5 GFLOPs\n",
      "\u001b[34m\u001b[1mval: \u001b[0mScanning '/home/sergio/Projects/Doutorado/ML/datasets/video2_COCO_FORMAT/la\u001b[0m\n",
      "\u001b[34m\u001b[1mval: \u001b[0mNew cache created: /home/sergio/Projects/Doutorado/ML/datasets/video2_COCO_FORMAT/labels/valid.cache\n",
      "               Class     Images     Labels          P          R     mAP@.5 mAP@\n",
      "                 all        291        291      0.919      0.509      0.707      0.435\n",
      "                 cat        291        291      0.919      0.509      0.707      0.435\n",
      "Speed: 1.0ms pre-process, 79.2ms inference, 2.3ms NMS per image at shape (32, 3, 640, 640)\n",
      "Results saved to \u001b[1m../yolov5/runs/val/exp31\u001b[0m\n"
     ]
    }
   ],
   "source": [
    "# validate video2 - original YOLOv5s\n",
    "!python3 ../yolov5/val.py --weights yolov5s.pt --data ../applied-machine-learning/video2_COCO_FORMAT.yaml --verbose --device cpu"
   ]
  }
 ],
 "metadata": {
  "interpreter": {
   "hash": "916dbcbb3f70747c44a77c7bcd40155683ae19c65e1c03b4aa3499c5328201f1"
  },
  "kernelspec": {
   "display_name": "Python 3.8.10 64-bit",
   "language": "python",
   "name": "python3"
  },
  "language_info": {
   "codemirror_mode": {
    "name": "ipython",
    "version": 3
   },
   "file_extension": ".py",
   "mimetype": "text/x-python",
   "name": "python",
   "nbconvert_exporter": "python",
   "pygments_lexer": "ipython3",
   "version": "3.8.10"
  },
  "orig_nbformat": 4
 },
 "nbformat": 4,
 "nbformat_minor": 2
}
