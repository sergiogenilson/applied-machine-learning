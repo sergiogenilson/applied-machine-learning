{
 "cells": [
  {
   "cell_type": "code",
   "execution_count": 1,
   "metadata": {},
   "outputs": [],
   "source": [
    "# Make the union between cat and dogs\n",
    "\n",
    "import glob\n",
    "\n",
    "validation_dir = \"../datasets/COCO_REDUC_PP_unified/labels/val/\"\n",
    "train_dir = \"../datasets/COCO_REDUC_PP_unified/labels/train/\"\n",
    "\n",
    "def convert_classes(dir):\n",
    "    for file in glob.glob(dir + \"*.txt\"):\n",
    "        new_labels = \"\"\n",
    "        with open(file) as f:\n",
    "            for line in f:\n",
    "                s = line.split(\" \", 1)\n",
    "                if s[0] == \"0\":  # person\n",
    "                    new_labels += \"0 \" + s[1]\n",
    "                elif s[0] == \"1\" or s[0] == \"2\": # cat or dog\n",
    "                    new_labels += \"1 \" + s[1]\n",
    "            f.close()\n",
    "        \n",
    "        fout = open(file, \"w\")\n",
    "        fout.write(new_labels)\n",
    "        fout.close()\n",
    "\n",
    "convert_classes(validation_dir)\n",
    "convert_classes(train_dir)"
   ]
  },
  {
   "cell_type": "code",
   "execution_count": null,
   "metadata": {},
   "outputs": [],
   "source": [
    "# train yolo with PP dataset in COCO format\n",
    "!python3 ../yolov5/train.py --img 640 --batch 8 --epochs 100 --data ../applied-machine-learning/coco_pp_reduc_unified.yaml --cfg ../yolov5/models/yolov5s.yaml --name COCO_PP_REDUC_unified"
   ]
  }
 ],
 "metadata": {
  "interpreter": {
   "hash": "916dbcbb3f70747c44a77c7bcd40155683ae19c65e1c03b4aa3499c5328201f1"
  },
  "kernelspec": {
   "display_name": "Python 3.8.10 64-bit",
   "language": "python",
   "name": "python3"
  },
  "language_info": {
   "codemirror_mode": {
    "name": "ipython",
    "version": 3
   },
   "file_extension": ".py",
   "mimetype": "text/x-python",
   "name": "python",
   "nbconvert_exporter": "python",
   "pygments_lexer": "ipython3",
   "version": "3.8.10"
  },
  "orig_nbformat": 4
 },
 "nbformat": 4,
 "nbformat_minor": 2
}
