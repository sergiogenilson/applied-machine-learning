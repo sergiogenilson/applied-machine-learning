{
 "cells": [
  {
   "cell_type": "code",
   "execution_count": null,
   "metadata": {},
   "outputs": [],
   "source": [
    "import os"
   ]
  },
  {
   "cell_type": "code",
   "execution_count": 1,
   "metadata": {},
   "outputs": [
    {
     "name": "stdout",
     "output_type": "stream",
     "text": [
      "/home/sergio/Projects/Doutorado/ML/labeling\n",
      "/home/sergio/Projects/Doutorado/ML/labeling/OpenLabeling/main\n"
     ]
    }
   ],
   "source": [
    "# Go to the labeling folder...\n",
    "%cd ../labeling\n",
    "# Uncomment de git clone command if is the firs time\n",
    "# !git clone --recurse-submodules git@github.com:Cartucho/OpenLabeling.git\n",
    "%cd OpenLabeling/main\n",
    "\n",
    "# install OpenLabeling requirements... See readme files..."
   ]
  },
  {
   "cell_type": "code",
   "execution_count": 4,
   "metadata": {},
   "outputs": [
    {
     "name": "stdout",
     "output_type": "stream",
     "text": [
      "Showing image 0/43, path: ../../test2/inputs/P1000659.JPG\n",
      "Welcome!\n",
      " Press [h] for help.\n"
     ]
    }
   ],
   "source": [
    "!python3 main.py -i ../../test2/inputs/ -o ../../test2/outputs/ -t 2"
   ]
  }
 ],
 "metadata": {
  "interpreter": {
   "hash": "916dbcbb3f70747c44a77c7bcd40155683ae19c65e1c03b4aa3499c5328201f1"
  },
  "kernelspec": {
   "display_name": "Python 3.8.10 64-bit",
   "language": "python",
   "name": "python3"
  },
  "language_info": {
   "codemirror_mode": {
    "name": "ipython",
    "version": 3
   },
   "file_extension": ".py",
   "mimetype": "text/x-python",
   "name": "python",
   "nbconvert_exporter": "python",
   "pygments_lexer": "ipython3",
   "version": "3.8.10"
  },
  "orig_nbformat": 4
 },
 "nbformat": 4,
 "nbformat_minor": 2
}
